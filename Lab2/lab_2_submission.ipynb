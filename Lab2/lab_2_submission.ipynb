{
  "cells": [
    {
      "cell_type": "markdown",
      "metadata": {
        "id": "gmV59GGD9K3x"
      },
      "source": [
        "> Task: 1 [5]\n",
        "\n",
        "Suppose you are given a task to rank the students. You have gotten the marks and id of\n",
        "the students. Now your task is to rank the students based on their marks using only\n",
        "insertion sort from highest to lowest.\\\n",
        "Here is the pseudocode for insertion sort for ascending order. You need to change it\n",
        "for descending order.\n",
        "```\n",
        "---psudo code insertion sort---\n",
        "for i from 0 to n-1\n",
        "  temp <- a[i+1]\n",
        "  j <- i\n",
        "  while j is less or equal 0\n",
        "    if a[j] less than temp\n",
        "      a[j+1] <- a[j]\n",
        "    else break loop\n",
        "  decreament j by 1\n",
        "  a[j+1] <- temp\n",
        "```\n",
        "**Implement this pseudocode to complete your task**\n",
        "\n",
        "First line of the input file will contain an integer N. The next line will contain N number of\n",
        "id of the students.The next line will contain the N number of the marks of corresponding\n",
        "students. Output will be ranking the id based on their marks (descending order)."
      ]
    },
    {
      "cell_type": "code",
      "execution_count": null,
      "metadata": {
        "id": "_nUrBwV6B3jW"
      },
      "outputs": [],
      "source": [
        "def insertion_sort(size, id, mark):\n",
        "  for i in range(size-1):\n",
        "    temp_mark = mark[i+1]\n",
        "    temp_id = id[i+1]\n",
        "    j = i\n",
        "    while j >= 0:\n",
        "      if mark[j] < temp_mark:\n",
        "        mark[j+1] = mark[j]\n",
        "        id[j+1] = id[j]\n",
        "      else:\n",
        "        break\n",
        "      j -= 1\n",
        "    mark[j+1]=temp_mark\n",
        "    id[j+1]=temp_id\n",
        "\n",
        "if __name__ == '__main__':\n",
        "  inf = open(r'/content/input1.txt','r')\n",
        "  opf = open(r'/content/output1.txt','w')\n",
        "  size = int(inf.readline())\n",
        "\n",
        "  id = [int(x) for x in inf.readline().split(' ')]\n",
        "  mark = [int(x) for x in inf.readline().split(' ')]\n",
        "\n",
        "  insertion_sort(size, id, mark)\n",
        "\n",
        "  for x in id:\n",
        "    print(f'{x}', end=' ', file=opf)"
      ]
    },
    {
      "cell_type": "markdown",
      "source": [
        "> Task:2 [5]\n",
        "\n",
        "Although Insertion Sort has an O(n) time in best case but in the worst case it is bad as\n",
        "selection or bubble. Merge Sort, a divide and conquer algorithm, however has a terrific\n",
        "worst case time complexity.\n",
        "i) Derive the worst case time complexity of Merge Sort using either tree method or\n",
        "substitution. [2]\n",
        "ii) Given a bunch of numbers in the input file, write the code of Merge Sort. The sorting\n",
        "algorithm pseudocode is given below. [3]\n",
        "\n",
        "```\n",
        "function sort(arr)\n",
        "  n = arr length\n",
        "  mid = n / 2\n",
        "  return arr if n == 1  ---> base case\n",
        "  \n",
        "  L = contains unsorted left half of the array\n",
        "  R = contains unsorted right half of the array\n",
        "\n",
        "  leftMergedArr = sort(L)\n",
        "  rightMergedArr = sort(R)\n",
        "\n",
        "  return merge(leftMergedArr, rightMergedArr)\n",
        "\n",
        "function merge(leftMergedArr, rightMergedArr)\n",
        "  arr = empty array\n",
        "  i = j = 0\n",
        "  while i < leftMergedArr and j < rightMergedArr\n",
        "    if leftMergedArr[i] < rightMergedArr[j]\n",
        "      arr.add(leftMergedArr[i])\n",
        "      increase i by 1\n",
        "    otherwise\n",
        "      arr.add(leftMergedArr[i])\n",
        "      increase j by 1\n",
        "  \n",
        "  while i < leftMergedArr\n",
        "    arr.add(leftMergedArr[i])\n",
        "    increase i by 1\n",
        "  \n",
        "  while j < rightMergedArr\n",
        "    arr.add(rightMergedArr[j])\n",
        "    increase j by 1\n",
        "  \n",
        "  return arr\n",
        "  \n",
        "```"
      ],
      "metadata": {
        "id": "71utAa3ET93W"
      }
    },
    {
      "cell_type": "code",
      "source": [
        "def sort(arr):\n",
        "  if len(arr) == 1:\n",
        "    return arr\n",
        "\n",
        "  mid = len(arr) // 2\n",
        "  L = arr[:mid]\n",
        "  R = arr[mid:]\n",
        "\n",
        "  left_sorted_arr = sort(L)\n",
        "  right_sorted_arr = sort(R)\n",
        "\n",
        "  return merge(left_sorted_arr, right_sorted_arr)\n",
        "\n",
        "def merge(left_sorted_arr, right_sorted_arr):\n",
        "  merged_arr = []\n",
        "  i = j = 0\n",
        "  while i < len(left_sorted_arr) and j < len(right_sorted_arr):\n",
        "    if left_sorted_arr[i] < right_sorted_arr[j]:\n",
        "      merged_arr.append(left_sorted_arr[i])\n",
        "      i+=1\n",
        "    else:\n",
        "      merged_arr.append(right_sorted_arr[j])\n",
        "      j+=1\n",
        "  \n",
        "  while i < len(left_sorted_arr):\n",
        "    merged_arr.append(left_sorted_arr[i])\n",
        "    i+=1\n",
        "\n",
        "  while j < len(right_sorted_arr):\n",
        "    merged_arr.append(right_sorted_arr[j])\n",
        "    j+=1\n",
        "\n",
        "  return merged_arr\n",
        "\n",
        "if __name__ == '__main__':\n",
        "  inf = open(r'/content/input2.txt','r')\n",
        "  opf = open(r'/content/output2.txt','w')\n",
        "  size = int(inf.readline())\n",
        "  arr = [int(x) for x in inf.readline().split(' ')]\n",
        "\n",
        "  sort(arr)\n",
        "  \n",
        "  for x in arr:\n",
        "    print(f'{x}', end=' ', file=opf)"
      ],
      "metadata": {
        "id": "KtdMpzwyZl9F"
      },
      "execution_count": null,
      "outputs": []
    },
    {
      "cell_type": "markdown",
      "source": [
        "> Tast: 3(i)\n",
        "\n",
        "Merge Sort in an out of place algorithm. A solution to this problem in the Quick Sort algorithm.\n",
        "i) On the same set of inputs used in Task 2, implement Quick Sort. You have to write the code\n",
        "for the partition function as well. The pseudocodes are given below."
      ],
      "metadata": {
        "id": "i2nHHPbw28dC"
      }
    },
    {
      "cell_type": "code",
      "source": [
        "def partition(arr, low, high):\n",
        "  pivot = arr[high]\n",
        "  index = low - 1\n",
        "  for j in range(low, high):\n",
        "    if arr[j] <= pivot:\n",
        "      index = index + 1\n",
        "      swap(arr, index, j)\n",
        "  swap(arr, index+1, high)\n",
        "  return index+1"
      ],
      "metadata": {
        "id": "pwx3F_1hzRnX"
      },
      "execution_count": null,
      "outputs": []
    },
    {
      "cell_type": "code",
      "source": [
        "def swap(arr, i, j):\n",
        "  arr[j], arr[i] = arr[i], arr[j]"
      ],
      "metadata": {
        "id": "P8U-UWgcYbUu"
      },
      "execution_count": null,
      "outputs": []
    },
    {
      "cell_type": "code",
      "source": [
        "def quick_sort(arr, low, high):\n",
        "  if low < high:\n",
        "    pivot = partition(arr, low, high)\n",
        "    quick_sort(arr, low, pivot-1)\n",
        "    quick_sort(arr, pivot+1, high)\n",
        "\n",
        "if __name__ == '__main__':\n",
        "  inf = open(r'/content/input3a.txt','r')\n",
        "  opf = open(r'/content/output3a.txt','w')\n",
        "\n",
        "  size = int(inf.readline())\n",
        "  # arr = [int(x) for x in inf.readline().split(' ')]\n",
        "  arr = [5, 1, 10, 2, 8]\n",
        "\n",
        "  quick_sort(arr, 0, len(arr)-1)\n",
        "  print(arr)\n",
        "\n",
        "  for x in arr:\n",
        "    print(f'{x}', end=' ', file=opf)"
      ],
      "metadata": {
        "id": "z_rcEu5FjDFh",
        "colab": {
          "base_uri": "https://localhost:8080/"
        },
        "outputId": "bdd8b8ed-e831-4ada-dee7-9fbfe682fef0"
      },
      "execution_count": null,
      "outputs": [
        {
          "output_type": "stream",
          "name": "stdout",
          "text": [
            "[1, 2, 5, 8, 10]\n"
          ]
        }
      ]
    },
    {
      "cell_type": "markdown",
      "source": [
        ">Task: 3(ii)\n",
        "\n",
        "Implement an algorithm “findK” that uses the “partition” algorithm to find the kth\n",
        "smallest element from an array without sorting. E.g. for the array in our example, the 5\n",
        "th\n",
        "\n",
        "element will be “9”"
      ],
      "metadata": {
        "id": "dAvJLhs7xOt5"
      }
    },
    {
      "cell_type": "markdown",
      "source": [
        "> example\n",
        "\n",
        "```\n",
        "[7, 5, 3, 12, 8, 14, 6, 4, 2]\n",
        "```\n",
        "k = 4\\\n",
        "find the 4th smallest element\\\n",
        "1st smallest 2\\\n",
        "2nd smallest 3\\\n",
        "3rd smallest 4\\\n",
        "4th smallest 5\n",
        "\n",
        "```\n",
        "output -> 5\n",
        "```"
      ],
      "metadata": {
        "id": "HcPdF2K3xcug"
      }
    },
    {
      "cell_type": "code",
      "source": [
        "def find_kth(arr, low, high, k):\n",
        "  if k > 0 and k <= high - low + 1:\n",
        "    pi = partition(arr, low, high)\n",
        "    if pi - low == k - 1:\n",
        "      return arr[pi]\n",
        "    if pi - low > k - 1:\n",
        "      return find_kth(arr, low, pi-1, k)\n",
        "    return find_kth(arr, pi+1, high, k- pi +low -1)\n",
        "\n",
        "if __name__ == '__main__':\n",
        "  inf = open(r'/content/input3b.txt','r')\n",
        "  opf = open(r'/content/output3b.txt','w')\n",
        "\n",
        "  arr = [int(x) for x in inf.readline().split(' ')]\n",
        "  k = int(inf.readline())\n",
        "  res = find_kth(arr, 0, len(arr)-1, k)\n",
        "  print(f'{k}th smallest element is {res}', file=opf)"
      ],
      "metadata": {
        "id": "bUjxzdLN79HD"
      },
      "execution_count": null,
      "outputs": []
    },
    {
      "cell_type": "markdown",
      "source": [
        "> Task: 4\n",
        "\n",
        "Methodology: Create a function called enque(name of the patient ) which will\n",
        "insert the name in the queue (use a list). Create a function called seeDoctor( )\n",
        "which will basically deque the correct patient from the queue. Create a function\n",
        "named printQueue( ) which will print all the patients in the queue. You may create\n",
        "additional functions needed to solve the problem. Use a list as the queue\n",
        "- a) You must build this system in 2 ways. Use the bubble sort algorithm\n",
        "everytime a new patient comes in, where you sort the patients according to\n",
        "the seriousness and delete when seeDoctor method is called\n",
        "- b) The second way is to use heap sort. Everytime a patient comes in you\n",
        "heapify (swim up) and sink when the seeDoctor method is called.\n",
        "- c) Do you see any difference in output when you call the seeDoctor( ) function\n",
        "? If yes, what do you think is the reason? If you don't see any difference do\n",
        "not panic. As long as the correct patient is sent to the doctor your system is\n",
        "correct.\n",
        "- d) You then compare the time complexity of the 2 techniques by plotting a line\n",
        "graph input in the x axis and time taken in the y axis. See lab 1 to solve."
      ],
      "metadata": {
        "id": "h2K_M0lDPIU7"
      }
    },
    {
      "cell_type": "code",
      "source": [
        "\n",
        "## incomplete task beacause of heap sort\n",
        "def enque(patient):\n",
        "  queue.append(patient)\n",
        "  bubbleSort(queue)\n",
        "\n",
        "def seeDoctor():\n",
        "  queue.pop(0)\n",
        "\n",
        "def bubbleSort(arr):\n",
        "  i = j = 0\n",
        "  while i < len(arr):\n",
        "\n",
        "    while j < len(arr) - i - 1:\n",
        "      p1 = arr[j]['priority']\n",
        "      p2 = arr[j+1]['priority']\n",
        "\n",
        "      if p1 < p2:\n",
        "        arr[j], arr[j+1] = arr[j+1], arr[j]\n",
        "\n",
        "      j+=1\n",
        "\n",
        "    i+=1\n",
        "\n",
        "queue = []\n",
        "\n",
        "p1 = {\n",
        "  \"name\":'jimmy',\n",
        "  'priority':1\n",
        "  }\n",
        "\n",
        "p2 = {\n",
        "  \"name\":'kudu',\n",
        "  'priority':2\n",
        "}\n",
        "\n",
        "enque(p1)\n",
        "enque(p2)\n",
        "print(queue)\n",
        "seeDoctor()\n",
        "print(queue)"
      ],
      "metadata": {
        "colab": {
          "base_uri": "https://localhost:8080/"
        },
        "id": "io1Ymyg5PKJK",
        "outputId": "47997f9e-3e41-4c0d-f432-76ddfddeadc9"
      },
      "execution_count": null,
      "outputs": [
        {
          "output_type": "stream",
          "name": "stdout",
          "text": [
            "[{'name': 'kudu', 'priority': 2}, {'name': 'jimmy', 'priority': 1}]\n",
            "[{'name': 'jimmy', 'priority': 1}]\n"
          ]
        }
      ]
    }
  ],
  "metadata": {
    "colab": {
      "provenance": [],
      "collapsed_sections": []
    },
    "kernelspec": {
      "display_name": "Python 3 (ipykernel)",
      "language": "python",
      "name": "python3"
    },
    "language_info": {
      "codemirror_mode": {
        "name": "ipython",
        "version": 3
      },
      "file_extension": ".py",
      "mimetype": "text/x-python",
      "name": "python",
      "nbconvert_exporter": "python",
      "pygments_lexer": "ipython3",
      "version": "3.9.13"
    }
  },
  "nbformat": 4,
  "nbformat_minor": 0
}